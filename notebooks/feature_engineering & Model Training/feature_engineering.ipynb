{
 "cells": [
  {
   "metadata": {},
   "cell_type": "code",
   "outputs": [],
   "execution_count": null,
   "source": "#Applying Feature Engineering",
   "id": "97293e0835b083a7"
  },
  {
   "metadata": {},
   "cell_type": "code",
   "outputs": [],
   "execution_count": null,
   "source": "#Using the data from the previous notebook, we will apply feature engineering to the data",
   "id": "729d0e84924095a7"
  },
  {
   "metadata": {
    "ExecuteTime": {
     "end_time": "2024-06-01T19:06:57.179334Z",
     "start_time": "2024-06-01T19:06:57.164964Z"
    }
   },
   "cell_type": "code",
   "source": [
    "#Importing the necessary libraries\n",
    "\n",
    "import pandas as pd"
   ],
   "id": "1221e6cd6113f356",
   "outputs": [],
   "execution_count": 1
  },
  {
   "metadata": {
    "ExecuteTime": {
     "end_time": "2024-06-01T19:07:06.832741Z",
     "start_time": "2024-06-01T19:07:06.095102Z"
    }
   },
   "cell_type": "code",
   "source": [
    "# Load the preprocessed data\n",
    "X_train = pd.read_csv('C:\\\\Users\\\\am998\\\\OneDrive\\\\Desktop\\\\Loan_approval\\\\Loan_Approval_Analysis\\\\data\\\\processed\\\\X_train.csv')\n",
    "X_val = pd.read_csv('C:\\\\Users\\\\am998\\\\OneDrive\\\\Desktop\\\\Loan_approval\\\\Loan_Approval_Analysis\\\\data\\\\processed\\\\X_val.csv')\n",
    "X_test = pd.read_csv('C:\\\\Users\\\\am998\\\\OneDrive\\\\Desktop\\\\Loan_approval\\\\Loan_Approval_Analysis\\\\data\\\\processed\\\\X_test.csv')\n",
    "y_train = pd.read_csv('C:\\\\Users\\\\am998\\\\OneDrive\\\\Desktop\\\\Loan_approval\\\\Loan_Approval_Analysis\\\\data\\\\processed\\\\y_train.csv')\n",
    "y_val = pd.read_csv('C:\\\\Users\\\\am998\\\\OneDrive\\\\Desktop\\\\Loan_approval\\\\Loan_Approval_Analysis\\\\data\\\\processed\\\\y_val.csv')\n",
    "y_test = pd.read_csv('C:\\\\Users\\\\am998\\\\OneDrive\\\\Desktop\\\\Loan_approval\\\\Loan_Approval_Analysis\\\\data\\\\processed\\\\y_test.csv')\n",
    "\n",
    "\n",
    "\n"
   ],
   "id": "c2e0bbbed65ac188",
   "outputs": [],
   "execution_count": 2
  },
  {
   "metadata": {
    "ExecuteTime": {
     "end_time": "2024-06-01T14:53:59.664041Z",
     "start_time": "2024-06-01T14:53:59.655547Z"
    }
   },
   "cell_type": "code",
   "source": [
    "# Determine the number of classes in the target variable\n",
    "n_classes = len(y_train['Risk_Flag'].unique())\n",
    "print(f'Number of classes: {n_classes}')"
   ],
   "id": "2bb042ef2b60299",
   "outputs": [
    {
     "name": "stdout",
     "output_type": "stream",
     "text": [
      "Number of classes: 2\n"
     ]
    }
   ],
   "execution_count": 4
  },
  {
   "metadata": {
    "ExecuteTime": {
     "end_time": "2024-06-01T14:54:47.276064Z",
     "start_time": "2024-06-01T14:54:47.260428Z"
    }
   },
   "cell_type": "code",
   "source": [
    "#maximum number of LDA components(Applying LDA)\n",
    "max_components = n_classes - 1\n",
    "print(f'Maximum number of LDA components: {max_components}')\n"
   ],
   "id": "a874c389405e6c50",
   "outputs": [
    {
     "name": "stdout",
     "output_type": "stream",
     "text": [
      "Maximum number of LDA components: 1\n"
     ]
    }
   ],
   "execution_count": 5
  },
  {
   "metadata": {
    "ExecuteTime": {
     "end_time": "2024-06-01T19:13:47.425363Z",
     "start_time": "2024-06-01T19:13:47.066678Z"
    }
   },
   "cell_type": "code",
   "source": [
    "# Import the necessary libraries\n",
    "from sklearn.discriminant_analysis import LinearDiscriminantAnalysis\n",
    "from sklearn.preprocessing import StandardScaler\n",
    "scaler = StandardScaler()\n",
    "X_train_scaled = scaler.fit_transform(X_train)\n",
    "X_val_scaled = scaler.transform(X_val)\n",
    "X_test_scaled = scaler.transform(X_test)\n"
   ],
   "id": "30d44d6692057e05",
   "outputs": [],
   "execution_count": 3
  },
  {
   "metadata": {
    "ExecuteTime": {
     "end_time": "2024-06-01T14:57:38.817232Z",
     "start_time": "2024-06-01T14:57:38.585286Z"
    }
   },
   "cell_type": "code",
   "source": [
    "# Apply LDA\n",
    "lda = LinearDiscriminantAnalysis(n_components=max_components)\n",
    "# Fit LDA and transform the training data\n",
    "X_train_lda = lda.fit_transform(X_train_scaled, y_train.values.ravel())\n",
    "X_val_lda = lda.transform(X_val_scaled)\n",
    "X_test_lda = lda.transform(X_test_scaled)\n"
   ],
   "id": "d9d71843a9f11ba9",
   "outputs": [],
   "execution_count": 7
  },
  {
   "metadata": {
    "ExecuteTime": {
     "end_time": "2024-06-01T15:17:15.655524Z",
     "start_time": "2024-06-01T15:16:26.891094Z"
    }
   },
   "cell_type": "code",
   "source": [
    "from sklearn.ensemble import RandomForestClassifier\n",
    "from sklearn.metrics import accuracy_score\n",
    "# Convert the transformed arrays back to DataFrames for easier inspection\n",
    "X_train_lda_df = pd.DataFrame(X_train_lda, columns=[f'LDA{i+1}' for i in range(X_train_lda.shape[1])])\n",
    "X_val_lda_df = pd.DataFrame(X_val_lda, columns=[f'LDA{i+1}' for i in range(X_val_lda.shape[1])])\n",
    "X_test_lda_df = pd.DataFrame(X_test_lda, columns=[f'LDA{i+1}' for i in range(X_test_lda.shape[1])])\n",
    "# Train and evaluate a classifier using the LDA-transformed data\n",
    "clf = RandomForestClassifier(random_state=42)\n",
    "clf.fit(X_train_lda_df, y_train.values.ravel())\n",
    "y_pred_val = clf.predict(X_val_lda_df)\n",
    "y_pred_test = clf.predict(X_test_lda_df)\n",
    "accuracy = accuracy_score(y_val, y_pred_val)\n",
    "accuracy1=accuracy_score(y_test,y_pred_test)\n",
    "print(f'Validation Accuracy with LDA: {accuracy}')\n",
    "print(f'Test Accuracy with LDA: {accuracy1}')\n"
   ],
   "id": "148f37a725f42603",
   "outputs": [
    {
     "name": "stdout",
     "output_type": "stream",
     "text": [
      "Validation Accuracy with LDA: 0.8836904761904761\n",
      "Test Accuracy with LDA: 0.8818650793650794\n"
     ]
    }
   ],
   "execution_count": 19
  },
  {
   "metadata": {
    "ExecuteTime": {
     "end_time": "2024-06-01T15:06:33.077880Z",
     "start_time": "2024-06-01T15:06:32.998584Z"
    }
   },
   "cell_type": "code",
   "source": [
    "#using smote to balance the data\n",
    "from imblearn.over_sampling import SMOTE\n",
    "smote = SMOTE(random_state=42)\n",
    "X_train_smote, y_train_smote = smote.fit_resample(X_train_lda_df, y_train)\n",
    "# Convert the transformed arrays back to DataFrames for easier inspection\n",
    "X_train_smote = pd.DataFrame(X_train_smote, columns=[f'LDA{i+1}' for i in range(X_train_smote.shape[1])])\n",
    "\n"
   ],
   "id": "6ccd73016d5ff44a",
   "outputs": [],
   "execution_count": 12
  },
  {
   "metadata": {
    "ExecuteTime": {
     "end_time": "2024-06-01T15:14:27.407920Z",
     "start_time": "2024-06-01T15:14:04.890485Z"
    }
   },
   "cell_type": "code",
   "source": [
    "#Random forest with just train_scaled data\n",
    "clf = RandomForestClassifier(random_state=42)\n",
    "clf.fit(X_train_scaled, y_train.values.ravel())\n",
    "y_pred_val = clf.predict(X_val_scaled)\n",
    "accuracy = accuracy_score(y_val, y_pred_val)\n",
    "print(f'Validation Accuracy with just scaled data: {accuracy}')\n"
   ],
   "id": "2888bd41410ecc1a",
   "outputs": [
    {
     "name": "stdout",
     "output_type": "stream",
     "text": [
      "Validation Accuracy with just scaled data: 0.900952380952381\n"
     ]
    }
   ],
   "execution_count": 17
  },
  {
   "metadata": {
    "ExecuteTime": {
     "end_time": "2024-06-01T15:26:25.985623Z",
     "start_time": "2024-06-01T15:26:25.129458Z"
    }
   },
   "cell_type": "code",
   "source": [
    "#using XGBoost\n",
    "from xgboost import XGBClassifier\n",
    "clf = XGBClassifier(random_state=42)\n",
    "clf.fit(X_train_scaled, y_train.values.ravel())\n",
    "y_pred_val = clf.predict(X_val_scaled)\n",
    "accuracy = accuracy_score(y_val, y_pred_val)\n",
    "y_pred_test = clf.predict(X_test_scaled)\n",
    "accuracy1=accuracy_score(y_test,y_pred_test)\n",
    "print(f'Validation Accuracy with XGBoost: {accuracy}')\n",
    "print(f'Test Accuracy with XGBoost: {accuracy1}')\n",
    "\n"
   ],
   "id": "aba9b8c2185d809b",
   "outputs": [
    {
     "name": "stdout",
     "output_type": "stream",
     "text": [
      "Validation Accuracy with XGBoost: 0.8885714285714286\n",
      "Test Accuracy with XGBoost: 0.8894047619047619\n"
     ]
    }
   ],
   "execution_count": 23
  },
  {
   "metadata": {
    "ExecuteTime": {
     "end_time": "2024-06-01T15:27:02.321732Z",
     "start_time": "2024-06-01T15:27:01.961683Z"
    }
   },
   "cell_type": "code",
   "source": [
    "#Using XGBoost with LDA\n",
    "clf = XGBClassifier(random_state=42)\n",
    "clf.fit(X_train_lda_df, y_train.values.ravel())\n",
    "y_pred_val = clf.predict(X_val_lda_df)\n",
    "accuracy = accuracy_score(y_val, y_pred_val)\n",
    "y_pred_test = clf.predict(X_test_lda_df)\n",
    "accuracy1=accuracy_score(y_test,y_pred_test)\n",
    "print(f'Validation Accuracy with XGBoost and LDA: {accuracy}')\n",
    "print(f'Test Accuracy with XGBoost and LDA: {accuracy1}')\n"
   ],
   "id": "88f20d22757e5608",
   "outputs": [
    {
     "name": "stdout",
     "output_type": "stream",
     "text": [
      "Validation Accuracy with XGBoost and LDA: 0.8740079365079365\n",
      "Test Accuracy with XGBoost and LDA: 0.8778571428571429\n"
     ]
    }
   ],
   "execution_count": 24
  },
  {
   "metadata": {
    "ExecuteTime": {
     "end_time": "2024-06-02T16:59:10.562457Z",
     "start_time": "2024-06-02T16:59:10.556246Z"
    }
   },
   "cell_type": "code",
   "source": "\n",
   "id": "bf2a8213ff4153e6",
   "outputs": [],
   "execution_count": null
  },
  {
   "metadata": {
    "ExecuteTime": {
     "end_time": "2024-06-02T16:58:31.459383Z",
     "start_time": "2024-06-02T16:58:31.445134Z"
    }
   },
   "cell_type": "code",
   "source": "",
   "id": "9891e5fb9006f273",
   "outputs": [],
   "execution_count": null
  },
  {
   "metadata": {
    "ExecuteTime": {
     "end_time": "2024-06-01T15:28:30.628858Z",
     "start_time": "2024-06-01T15:28:30.454463Z"
    }
   },
   "cell_type": "code",
   "source": [
    "#Using logistic regression\n",
    "from sklearn.linear_model import LogisticRegression\n",
    "clf = LogisticRegression(random_state=42)\n",
    "clf.fit(X_train_scaled, y_train.values.ravel())\n",
    "y_pred_val = clf.predict(X_val_scaled)\n",
    "accuracy = accuracy_score(y_val, y_pred_val)\n",
    "y_pred_test = clf.predict(X_test_scaled)\n",
    "accuracy1=accuracy_score(y_test,y_pred_test)\n",
    "print(f'Validation Accuracy with Logistic Regression: {accuracy}')\n",
    "print(f'Test Accuracy with Logistic Regression: {accuracy1}')\n"
   ],
   "id": "6f043ecb80ec34b2",
   "outputs": [
    {
     "name": "stdout",
     "output_type": "stream",
     "text": [
      "Validation Accuracy with Logistic Regression: 0.8740079365079365\n",
      "Test Accuracy with Logistic Regression: 0.8778571428571429\n"
     ]
    }
   ],
   "execution_count": 27
  },
  {
   "metadata": {
    "ExecuteTime": {
     "end_time": "2024-06-02T16:58:32.744873Z",
     "start_time": "2024-06-02T16:58:32.732281Z"
    }
   },
   "cell_type": "code",
   "source": "",
   "id": "4989556a162c21c1",
   "outputs": [],
   "execution_count": null
  },
  {
   "metadata": {},
   "cell_type": "code",
   "outputs": [
    {
     "name": "stdout",
     "output_type": "stream",
     "text": [
      "Validation Accuracy with CatBoost: 0.8890873015873015\n",
      "Test Accuracy with CatBoost: 0.8900396825396826\n"
     ]
    }
   ],
   "execution_count": 29,
   "source": [
    "#Using CatBoost\n",
    "from catboost import CatBoostClassifier\n",
    "clf = CatBoostClassifier(random_state=42, verbose=0)\n",
    "clf.fit(X_train_scaled, y_train.values.ravel())\n",
    "y_pred_val = clf.predict(X_val_scaled)\n",
    "accuracy = accuracy_score(y_val, y_pred_val)\n",
    "y_pred_test = clf.predict(X_test_scaled)\n",
    "accuracy1=accuracy_score(y_test,y_pred_test)\n",
    "print(f'Validation Accuracy with CatBoost: {accuracy}')\n",
    "print(f'Test Accuracy with CatBoost: {accuracy1}')\n",
    "\n"
   ],
   "id": "48ebb14af5026c96"
  },
  {
   "metadata": {
    "ExecuteTime": {
     "end_time": "2024-06-02T16:58:46.682893Z",
     "start_time": "2024-06-02T16:58:46.674233Z"
    }
   },
   "cell_type": "code",
   "source": "\n",
   "id": "579568a5af2c39b0",
   "outputs": [],
   "execution_count": null
  },
  {
   "metadata": {
    "ExecuteTime": {
     "end_time": "2024-06-01T19:36:21.292268Z",
     "start_time": "2024-06-01T19:36:21.120706Z"
    }
   },
   "cell_type": "code",
   "source": [
    "#Aplying feature engineering to the data\n",
    "#using PCA\n",
    "from sklearn.decomposition import PCA\n",
    "pca = PCA(n_components=0.95)\n",
    "X_train_pca = pca.fit_transform(X_train_scaled)\n",
    "X_val_pca = pca.transform(X_val_scaled)\n",
    "X_test_pca = pca.transform(X_test_scaled)\n",
    "# Convert the transformed arrays back to DataFrames for easier inspection\n",
    "X_train_pca_df = pd.DataFrame(X_train_pca, columns=[f'PCA{i+1}' for i in range(X_train_pca.shape[1])])\n",
    "X_val_pca_df = pd.DataFrame(X_val_pca, columns=[f'PCA{i+1}' for i in range(X_val_pca.shape[1])])\n",
    "X_test_pca_df = pd.DataFrame(X_test_pca, columns=[f'PCA{i+1}' for i in range(X_test_pca.shape[1])])\n",
    "\n"
   ],
   "id": "14abc611801d2abc",
   "outputs": [],
   "execution_count": 9
  },
  {
   "metadata": {
    "ExecuteTime": {
     "end_time": "2024-06-01T18:16:15.782007Z",
     "start_time": "2024-06-01T18:16:14.651608Z"
    }
   },
   "cell_type": "code",
   "source": [
    "#Classfiying with PCA\n",
    "from xgboost import XGBClassifier\n",
    "clf = XGBClassifier(random_state=42)\n",
    "clf.fit(X_train_pca_df, y_train.values.ravel())\n",
    "y_pred_val = clf.predict(X_val_pca_df)\n",
    "accuracy = accuracy_score(y_val, y_pred_val)\n",
    "y_pred_test = clf.predict(X_test_pca_df)\n",
    "accuracy1=accuracy_score(y_test,y_pred_test)\n",
    "print(f'Validation Accuracy with XGBoost and PCA: {accuracy}')\n",
    "print(f'Test Accuracy with XGBoost and PCA: {accuracy1}')\n"
   ],
   "id": "f94b1918f2f1451a",
   "outputs": [
    {
     "name": "stdout",
     "output_type": "stream",
     "text": [
      "Validation Accuracy with XGBoost and PCA: 0.8902380952380953\n",
      "Test Accuracy with XGBoost and PCA: 0.8898412698412699\n"
     ]
    }
   ],
   "execution_count": 15
  },
  {
   "metadata": {
    "ExecuteTime": {
     "end_time": "2024-06-01T18:18:01.976971Z",
     "start_time": "2024-06-01T18:17:07.245462Z"
    }
   },
   "cell_type": "code",
   "source": [
    "#using Random Forest with PCA\n",
    "from sklearn.ensemble import RandomForestClassifier\n",
    "clf = RandomForestClassifier(random_state=42)\n",
    "clf.fit(X_train_pca_df, y_train.values.ravel())\n",
    "y_pred_val = clf.predict(X_val_pca_df)\n",
    "accuracy = accuracy_score(y_val, y_pred_val)\n",
    "y_pred_test = clf.predict(X_test_pca_df)\n",
    "accuracy1=accuracy_score(y_test,y_pred_test)\n",
    "print(f'Validation Accuracy with Random Forest and PCA: {accuracy}')\n",
    "print(f'Test Accuracy with Random Forest and PCA: {accuracy1}')\n"
   ],
   "id": "f12d7c44051f3fe3",
   "outputs": [
    {
     "name": "stdout",
     "output_type": "stream",
     "text": [
      "Validation Accuracy with Random Forest and PCA: 0.9008333333333334\n",
      "Test Accuracy with Random Forest and PCA: 0.8960714285714285\n"
     ]
    }
   ],
   "execution_count": 16
  },
  {
   "metadata": {
    "ExecuteTime": {
     "end_time": "2024-06-01T18:18:31.161865Z",
     "start_time": "2024-06-01T18:18:30.943831Z"
    }
   },
   "cell_type": "code",
   "source": [
    "#using logistic regression with PCA\n",
    "from sklearn.linear_model import LogisticRegression\n",
    "clf = LogisticRegression(random_state=42)\n",
    "clf.fit(X_train_pca_df, y_train.values.ravel())\n",
    "y_pred_val = clf.predict(X_val_pca_df)\n",
    "accuracy = accuracy_score(y_val, y_pred_val)\n",
    "y_pred_test = clf.predict(X_test_pca_df)\n",
    "accuracy1=accuracy_score(y_test,y_pred_test)\n",
    "print(f'Validation Accuracy with Logistic Regression and PCA: {accuracy}')\n",
    "print(f'Test Accuracy with Logistic Regression and PCA: {accuracy1}')\n"
   ],
   "id": "712226b82a2eebd5",
   "outputs": [
    {
     "name": "stdout",
     "output_type": "stream",
     "text": [
      "Validation Accuracy with Logistic Regression and PCA: 0.8740079365079365\n",
      "Test Accuracy with Logistic Regression and PCA: 0.8778571428571429\n"
     ]
    }
   ],
   "execution_count": 17
  },
  {
   "metadata": {
    "ExecuteTime": {
     "end_time": "2024-06-01T18:19:16.327166Z",
     "start_time": "2024-06-01T18:18:45.735483Z"
    }
   },
   "cell_type": "code",
   "source": [
    "#using catboost with PCA\n",
    "from catboost import CatBoostClassifier\n",
    "clf = CatBoostClassifier(random_state=42, verbose=0)\n",
    "clf.fit(X_train_pca_df, y_train.values.ravel())\n",
    "y_pred_val = clf.predict(X_val_pca_df)\n",
    "accuracy = accuracy_score(y_val, y_pred_val)\n",
    "y_pred_test = clf.predict(X_test_pca_df)\n",
    "accuracy1=accuracy_score(y_test,y_pred_test)\n",
    "print(f'Validation Accuracy with CatBoost and PCA: {accuracy}')\n",
    "print(f'Test Accuracy with CatBoost and PCA: {accuracy1}')\n"
   ],
   "id": "c63c8927a23e28ad",
   "outputs": [
    {
     "name": "stdout",
     "output_type": "stream",
     "text": [
      "Validation Accuracy with CatBoost and PCA: 0.8890476190476191\n",
      "Test Accuracy with CatBoost and PCA: 0.8886507936507937\n"
     ]
    }
   ],
   "execution_count": 18
  },
  {
   "metadata": {
    "ExecuteTime": {
     "end_time": "2024-06-01T18:29:00.899604Z",
     "start_time": "2024-06-01T18:24:44.478390Z"
    }
   },
   "cell_type": "code",
   "source": [
    "#Using Stacking\n",
    "from sklearn.ensemble import StackingClassifier\n",
    "from sklearn.ensemble import RandomForestClassifier\n",
    "from xgboost import XGBClassifier\n",
    "from sklearn.linear_model import LogisticRegression\n",
    "from catboost import CatBoostClassifier\n",
    "estimators = [\n",
    "    ('rf', RandomForestClassifier(random_state=42)),\n",
    "    ('xgb', XGBClassifier(random_state=42)),\n",
    "    ('lr', LogisticRegression(random_state=42)),\n",
    "    ('cb', CatBoostClassifier(random_state=42, verbose=0))\n",
    "]\n",
    "clf = StackingClassifier(estimators=estimators, final_estimator=LogisticRegression())\n",
    "clf.fit(X_train_scaled, y_train.values.ravel())\n",
    "y_pred_val = clf.predict(X_val_scaled)\n",
    "accuracy = accuracy_score(y_val, y_pred_val)\n",
    "y_pred_test = clf.predict(X_test_scaled)\n",
    "accuracy1=accuracy_score(y_test,y_pred_test)\n",
    "print(f'Validation Accuracy with Stacking: {accuracy}')\n",
    "print(f'Test Accuracy with Stacking: {accuracy1}')\n"
   ],
   "id": "b200a1496a3e642b",
   "outputs": [
    {
     "name": "stdout",
     "output_type": "stream",
     "text": [
      "Validation Accuracy with Stacking: 0.9002777777777777\n",
      "Test Accuracy with Stacking: 0.8967063492063492\n"
     ]
    }
   ],
   "execution_count": 19
  },
  {
   "metadata": {
    "ExecuteTime": {
     "end_time": "2024-06-01T18:36:34.108006Z",
     "start_time": "2024-06-01T18:29:51.453266Z"
    }
   },
   "cell_type": "code",
   "source": [
    "#Using Stacking with PCA\n",
    "from sklearn.ensemble import StackingClassifier\n",
    "from sklearn.ensemble import RandomForestClassifier\n",
    "from xgboost import XGBClassifier\n",
    "from sklearn.linear_model import LogisticRegression\n",
    "from catboost import CatBoostClassifier\n",
    "estimators = [\n",
    "    ('rf', RandomForestClassifier(random_state=42)),\n",
    "    ('xgb', XGBClassifier(random_state=42)),\n",
    "    ('lr', LogisticRegression(random_state=42)),\n",
    "    ('cb', CatBoostClassifier(random_state=42, verbose=0))\n",
    "]\n",
    "clf = StackingClassifier(estimators=estimators, final_estimator=LogisticRegression())\n",
    "clf.fit(X_train_pca_df, y_train.values.ravel())\n",
    "y_pred_val = clf.predict(X_val_pca_df)\n",
    "accuracy = accuracy_score(y_val, y_pred_val)\n",
    "y_pred_test = clf.predict(X_test_pca_df)\n",
    "accuracy1=accuracy_score(y_test,y_pred_test)\n",
    "print(f'Validation Accuracy with Stacking and PCA: {accuracy}')\n",
    "print(f'Test Accuracy with Stacking and PCA: {accuracy1}')\n"
   ],
   "id": "4dc23a915cbca134",
   "outputs": [
    {
     "name": "stdout",
     "output_type": "stream",
     "text": [
      "Validation Accuracy with Stacking and PCA: 0.8996031746031746\n",
      "Test Accuracy with Stacking and PCA: 0.8959126984126984\n"
     ]
    }
   ],
   "execution_count": 20
  },
  {
   "metadata": {
    "ExecuteTime": {
     "end_time": "2024-06-01T19:19:26.633476Z",
     "start_time": "2024-06-01T19:15:10.892259Z"
    }
   },
   "cell_type": "code",
   "source": [
    "#using grid search to find the best hyperparameters\n",
    "from sklearn.model_selection import GridSearchCV\n",
    "from sklearn.ensemble import RandomForestClassifier\n",
    "# Define the hyperparameters to search\n",
    "hyperparameters = {\n",
    "    'n_estimators': [100, 200, 300],\n",
    "    'max_depth': [3, 5, 7]\n",
    "}\n",
    "# Instantiate the classifier\n",
    "clf = RandomForestClassifier(random_state=42)\n",
    "# Perform the grid search\n",
    "grid_search = GridSearchCV(clf, hyperparameters, cv=5, n_jobs=-1)\n",
    "grid_search.fit(X_train_scaled, y_train.values.ravel())\n",
    "# Print the best hyperparameters\n",
    "print(grid_search.best_params_)"
   ],
   "id": "1fae697a4faaaf6e",
   "outputs": [
    {
     "name": "stdout",
     "output_type": "stream",
     "text": [
      "{'max_depth': 7, 'n_estimators': 200}\n"
     ]
    }
   ],
   "execution_count": 5
  },
  {
   "metadata": {
    "ExecuteTime": {
     "end_time": "2024-06-01T19:34:13.923185Z",
     "start_time": "2024-06-01T19:33:35.243348Z"
    }
   },
   "cell_type": "code",
   "source": [
    "#using the best hyperparameters\n",
    "from sklearn.ensemble import RandomForestClassifier\n",
    "from sklearn.metrics import accuracy_score\n",
    "clf = RandomForestClassifier(n_estimators=200, max_depth=7, random_state=42)\n",
    "clf.fit(X_train_scaled, y_train.values.ravel())\n",
    "y_pred_val = clf.predict(X_val_scaled)\n",
    "accuracy = accuracy_score(y_val, y_pred_val)\n",
    "y_pred_test = clf.predict(X_test_scaled)\n",
    "accuracy1=accuracy_score(y_test,y_pred_test)\n",
    "print(f'Validation Accuracy with Random Forest and Grid Search: {accuracy}')\n",
    "print(f'Test Accuracy with Random Forest and Grid Search: {accuracy1}')\n",
    "\n"
   ],
   "id": "b5684db50a0aab90",
   "outputs": [
    {
     "name": "stdout",
     "output_type": "stream",
     "text": [
      "Validation Accuracy with Random Forest and Grid Search: 0.8743253968253968\n",
      "Test Accuracy with Random Forest and Grid Search: 0.8782539682539683\n"
     ]
    }
   ],
   "execution_count": 7
  },
  {
   "metadata": {
    "ExecuteTime": {
     "end_time": "2024-06-01T19:41:03.725155Z",
     "start_time": "2024-06-01T19:36:26.058592Z"
    }
   },
   "cell_type": "code",
   "source": [
    "#using grid search with PCA\n",
    "from sklearn.model_selection import GridSearchCV\n",
    "from sklearn.ensemble import RandomForestClassifier\n",
    "# Define the hyperparameters to search\n",
    "hyperparameters = {\n",
    "    'n_estimators': [100, 200, 300],\n",
    "    'max_depth': [3, 5, 7]\n",
    "}\n",
    "# Instantiate the classifier\n",
    "clf = RandomForestClassifier(random_state=42)\n",
    "# Perform the grid search\n",
    "grid_search = GridSearchCV(clf, hyperparameters, cv=5, n_jobs=-1)\n",
    "grid_search.fit(X_train_pca_df, y_train.values.ravel())\n",
    "# Print the best hyperparameters\n",
    "print(grid_search.best_params_)\n"
   ],
   "id": "8a2765c58bcca519",
   "outputs": [
    {
     "name": "stdout",
     "output_type": "stream",
     "text": [
      "{'max_depth': 7, 'n_estimators': 100}\n"
     ]
    }
   ],
   "execution_count": 10
  },
  {
   "metadata": {
    "ExecuteTime": {
     "end_time": "2024-06-01T20:35:56.538917Z",
     "start_time": "2024-06-01T20:35:37.289901Z"
    }
   },
   "cell_type": "code",
   "source": [
    "#using the best hyperparameters with PCA\n",
    "from sklearn.ensemble import RandomForestClassifier\n",
    "from sklearn.metrics import accuracy_score\n",
    "from sklearn.metrics import roc_curve, auc, confusion_matrix\n",
    "clf = RandomForestClassifier(n_estimators=100, max_depth=7, random_state=42)\n",
    "clf.fit(X_train_pca_df, y_train.values.ravel())\n",
    "y_pred_val = clf.predict(X_val_pca_df)\n",
    "accuracy = accuracy_score(y_val, y_pred_val)\n",
    "y_pred_test = clf.predict(X_test_pca_df)\n",
    "accuracy1=accuracy_score(y_test,y_pred_test)\n",
    "print(f'Validation Accuracy with Random Forest and Grid Search with PCA: {accuracy}')\n",
    "print(f'Test Accuracy with Random Forest and Grid Search with PCA: {accuracy1}')\n",
    "\n"
   ],
   "id": "b378227f7d3f82fa",
   "outputs": [
    {
     "name": "stdout",
     "output_type": "stream",
     "text": [
      "Validation Accuracy with Random Forest and Grid Search with PCA: 0.8743253968253968\n",
      "Test Accuracy with Random Forest and Grid Search with PCA: 0.8780555555555556\n"
     ]
    }
   ],
   "execution_count": 16
  },
  {
   "metadata": {},
   "cell_type": "code",
   "outputs": [],
   "execution_count": null,
   "source": "",
   "id": "98c0571988549383"
  }
 ],
 "metadata": {
  "kernelspec": {
   "display_name": "Python 3",
   "language": "python",
   "name": "python3"
  },
  "language_info": {
   "codemirror_mode": {
    "name": "ipython",
    "version": 2
   },
   "file_extension": ".py",
   "mimetype": "text/x-python",
   "name": "python",
   "nbconvert_exporter": "python",
   "pygments_lexer": "ipython2",
   "version": "2.7.6"
  }
 },
 "nbformat": 4,
 "nbformat_minor": 5
}
